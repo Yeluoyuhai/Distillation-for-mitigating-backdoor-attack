{
 "cells": [
  {
   "cell_type": "markdown",
   "metadata": {},
   "source": [
    "# Prepare MNIST dataset and split\n",
    "\n",
    "|  | name | label | normal_data | backdoor_data | description |\n",
    "| :--- | :--- | :---: | :---: | :---: | :--- |\n",
    "| $D_{train}$ | Clean training dataset | $\\checkmark$ | 50,000 | 0 | Train baseline model |\n",
    "| $D^p_{train}$ | Poison training dataset | $\\checkmark$ | 49,900 | 100 | Train backdoor model |\n",
    "| $D_{dist}$ | Distillation training dataset |  | 10,000 | 0 | Train distilled model |\n",
    "| $D_{test}$ | Clean test dataset | $\\checkmark$ | 10,000 | 0 | Validate stealthiness |\n",
    "| $D_{p}$ | Poison test dataset | $\\checkmark$ | 0 | 10,000 | Validate attack feasibility |"
   ]
  },
  {
   "cell_type": "code",
   "execution_count": 1,
   "metadata": {},
   "outputs": [],
   "source": [
    "import os\n",
    "import numpy as np\n",
    "\n",
    "import torch\n",
    "import torchvision\n",
    "from torchvision import transforms\n",
    "\n",
    "from backdoor_attack import create_poison_data"
   ]
  },
  {
   "cell_type": "markdown",
   "metadata": {},
   "source": [
    "## Prepare MNIST dataset"
   ]
  },
  {
   "cell_type": "code",
   "execution_count": 2,
   "metadata": {
    "tags": []
   },
   "outputs": [
    {
     "output_type": "stream",
     "name": "stdout",
     "text": [
      "Downloading http://yann.lecun.com/exdb/mnist/train-images-idx3-ubyte.gz to ./results/datasets/original_data/MNIST/raw/train-images-idx3-ubyte.gz\n",
      "Widget Javascript not detected.  It may not be installed or enabled properly.\n"
     ]
    },
    {
     "output_type": "display_data",
     "data": {
      "application/vnd.jupyter.widget-view+json": {
       "model_id": "7de252da5894476185180aa5c1e52004"
      }
     },
     "metadata": {}
    },
    {
     "output_type": "stream",
     "name": "stdout",
     "text": [
      "\n",
      "Extracting ./results/datasets/original_data/MNIST/raw/train-images-idx3-ubyte.gz to ./results/datasets/original_data/MNIST/raw\n",
      "Downloading http://yann.lecun.com/exdb/mnist/train-labels-idx1-ubyte.gz to ./results/datasets/original_data/MNIST/raw/train-labels-idx1-ubyte.gz\n",
      "Widget Javascript not detected.  It may not be installed or enabled properly.\n"
     ]
    },
    {
     "output_type": "display_data",
     "data": {
      "application/vnd.jupyter.widget-view+json": {
       "model_id": "41114ecd52124409bbc8f7961eedb0bd"
      }
     },
     "metadata": {}
    },
    {
     "output_type": "stream",
     "name": "stdout",
     "text": [
      "\n",
      "Extracting ./results/datasets/original_data/MNIST/raw/train-labels-idx1-ubyte.gz to ./results/datasets/original_data/MNIST/raw\n",
      "Downloading http://yann.lecun.com/exdb/mnist/t10k-images-idx3-ubyte.gz to ./results/datasets/original_data/MNIST/raw/t10k-images-idx3-ubyte.gz\n",
      "Widget Javascript not detected.  It may not be installed or enabled properly.\n"
     ]
    },
    {
     "output_type": "display_data",
     "data": {
      "application/vnd.jupyter.widget-view+json": {
       "model_id": "43f1e2145a3b4a97b377b6debf271c3e"
      }
     },
     "metadata": {}
    },
    {
     "output_type": "stream",
     "name": "stdout",
     "text": [
      "\n",
      "Extracting ./results/datasets/original_data/MNIST/raw/t10k-images-idx3-ubyte.gz to ./results/datasets/original_data/MNIST/raw\n",
      "Downloading http://yann.lecun.com/exdb/mnist/t10k-labels-idx1-ubyte.gz to ./results/datasets/original_data/MNIST/raw/t10k-labels-idx1-ubyte.gz\n",
      "Widget Javascript not detected.  It may not be installed or enabled properly.\n"
     ]
    },
    {
     "output_type": "display_data",
     "data": {
      "application/vnd.jupyter.widget-view+json": {
       "model_id": "a2a0a80b23c04c5691adabd776b2a703"
      }
     },
     "metadata": {}
    },
    {
     "output_type": "stream",
     "name": "stdout",
     "text": [
      "\nExtracting ./results/datasets/original_data/MNIST/raw/t10k-labels-idx1-ubyte.gz to ./results/datasets/original_data/MNIST/raw\nProcessing...\nDone!\n"
     ]
    }
   ],
   "source": [
    "ds_root = os.path.join('.', 'results', 'datasets')\n",
    "original_data_path = os.path.join(ds_root, 'original_data')\n",
    "os.makedirs(ds_root, exist_ok=True)\n",
    "\n",
    "mnist_train = torchvision.datasets.MNIST(original_data_path, train=True, download=True)\n",
    "mnist_test = torchvision.datasets.MNIST(original_data_path, train=False, download=True)"
   ]
  },
  {
   "cell_type": "markdown",
   "metadata": {},
   "source": [
    "### Configure training datasets"
   ]
  },
  {
   "cell_type": "code",
   "execution_count": 3,
   "metadata": {},
   "outputs": [],
   "source": [
    "np.random.seed(20200703)"
   ]
  },
  {
   "cell_type": "code",
   "execution_count": 4,
   "metadata": {},
   "outputs": [],
   "source": [
    "train_x = mnist_train.data.numpy()\n",
    "train_t = mnist_train.targets.numpy()\n",
    "idx = np.random.permutation(np.arange(train_x.shape[0]))"
   ]
  },
  {
   "cell_type": "code",
   "execution_count": 5,
   "metadata": {},
   "outputs": [],
   "source": [
    "# Clean training dataset\n",
    "x = train_x[idx[:50000]]\n",
    "t = train_t[idx[:50000]]\n",
    "np.savez(os.path.join(ds_root, 'clean_training_dataset.npz'), x=x, t=t)"
   ]
  },
  {
   "cell_type": "code",
   "execution_count": 6,
   "metadata": {},
   "outputs": [],
   "source": [
    "# Poison training dataset\n",
    "poisoned_target = 7 # poisoned target\n",
    "num_of_poison_data = 100\n",
    "\n",
    "x_p = train_x[idx[:50000]]\n",
    "t_p = train_t[idx[:50000]]\n",
    "t = train_t[idx[:50000]]\n",
    "\n",
    "i = 0\n",
    "n = 0\n",
    "while n < num_of_poison_data:\n",
    "    if t_p[i] != poisoned_target:\n",
    "        x_p[i] = create_poison_data.one_dot_mnist(x[i])\n",
    "        t_p[i] = poisoned_target\n",
    "        n += 1\n",
    "\n",
    "    i += 1\n",
    "\n",
    "shuffle_idx = np.random.permutation(np.arange(x_p.shape[0]))\n",
    "np.savez(os.path.join(ds_root, 'poison_training_dataset.npz'), x=x_p[shuffle_idx], t=t_p[shuffle_idx], t_correct=t[shuffle_idx])"
   ]
  },
  {
   "cell_type": "code",
   "execution_count": 7,
   "metadata": {
    "tags": []
   },
   "outputs": [],
   "source": [
    "# Distillation training dataset\n",
    "x = train_x[idx[50000:]]\n",
    "t = train_t[idx[50000:]]\n",
    "np.savez(os.path.join(ds_root, 'distillation_training_dataset.npz'), x=x, t=t)"
   ]
  },
  {
   "cell_type": "markdown",
   "metadata": {},
   "source": [
    "### Configure test datasets"
   ]
  },
  {
   "cell_type": "code",
   "execution_count": 8,
   "metadata": {},
   "outputs": [],
   "source": [
    "test_x = mnist_test.data.numpy()\n",
    "test_t = mnist_test.targets.numpy()"
   ]
  },
  {
   "cell_type": "code",
   "execution_count": 9,
   "metadata": {},
   "outputs": [],
   "source": [
    "# Clean test dataset\n",
    "np.savez(os.path.join(ds_root, 'clean_test_dataset.npz'), x=test_x, t=test_t)"
   ]
  },
  {
   "cell_type": "code",
   "execution_count": 10,
   "metadata": {},
   "outputs": [],
   "source": [
    "# Poison test dataset\n",
    "\n",
    "x_p = []\n",
    "t_p = []\n",
    "target = []\n",
    "for x, t in zip(test_x, test_t):\n",
    "    if t != poisoned_target:\n",
    "        x_p.append(create_poison_data.one_dot_mnist(x)[np.newaxis, ...])\n",
    "        t_p.append(poisoned_target)\n",
    "        target.append(t)\n",
    "\n",
    "x_p = np.concatenate(x_p, axis=0)\n",
    "t_p = np.array(t_p, dtype=np.int32)\n",
    "t = np.array(t, dtype=np.int32)\n",
    "\n",
    "np.savez(os.path.join(ds_root, 'poison_test_dataset.npz'), x=x_p, t=t_p, t_correct=target)"
   ]
  },
  {
   "cell_type": "code",
   "execution_count": null,
   "metadata": {},
   "outputs": [],
   "source": []
  }
 ],
 "metadata": {
  "language_info": {
   "codemirror_mode": {
    "name": "ipython",
    "version": 3
   },
   "file_extension": ".py",
   "mimetype": "text/x-python",
   "name": "python",
   "nbconvert_exporter": "python",
   "pygments_lexer": "ipython3",
   "version": "3.6.9-final"
  },
  "orig_nbformat": 2,
  "kernelspec": {
   "name": "python36964bit5ac2507db1eb4760aebe700123c964da",
   "display_name": "Python 3.6.9 64-bit"
  }
 },
 "nbformat": 4,
 "nbformat_minor": 2
}